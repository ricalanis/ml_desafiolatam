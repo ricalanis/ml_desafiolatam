{
 "cells": [
  {
   "cell_type": "markdown",
   "metadata": {},
   "source": [
    "### Regression using numpy (with pandas and pyplot)"
   ]
  },
  {
   "cell_type": "code",
   "execution_count": 1,
   "metadata": {
    "collapsed": true
   },
   "outputs": [],
   "source": [
    "import csv\n",
    "import pandas as pd\n",
    "import numpy as np\n",
    "import matplotlib.pyplot as plt\n",
    "%matplotlib inline"
   ]
  },
  {
   "cell_type": "code",
   "execution_count": 2,
   "metadata": {},
   "outputs": [],
   "source": [
    "# Read Cities.csv into dataframe\n",
    "f = open('Cities.csv','rU')\n",
    "cities = pd.read_csv(f)"
   ]
  },
  {
   "cell_type": "code",
   "execution_count": 6,
   "metadata": {
    "collapsed": true
   },
   "outputs": [],
   "source": [
    "cities = pd.DataFrame.from_csv(\"Cities.csv\")"
   ]
  },
  {
   "cell_type": "code",
   "execution_count": 8,
   "metadata": {},
   "outputs": [
    {
     "data": {
      "text/html": [
       "<div>\n",
       "<table border=\"1\" class=\"dataframe\">\n",
       "  <thead>\n",
       "    <tr style=\"text-align: right;\">\n",
       "      <th></th>\n",
       "      <th>country</th>\n",
       "      <th>latitude</th>\n",
       "      <th>longitude</th>\n",
       "      <th>temperature</th>\n",
       "    </tr>\n",
       "    <tr>\n",
       "      <th>city</th>\n",
       "      <th></th>\n",
       "      <th></th>\n",
       "      <th></th>\n",
       "      <th></th>\n",
       "    </tr>\n",
       "  </thead>\n",
       "  <tbody>\n",
       "    <tr>\n",
       "      <th>Aalborg</th>\n",
       "      <td>Denmark</td>\n",
       "      <td>57.03</td>\n",
       "      <td>9.92</td>\n",
       "      <td>7.52</td>\n",
       "    </tr>\n",
       "    <tr>\n",
       "      <th>Aberdeen</th>\n",
       "      <td>United Kingdom</td>\n",
       "      <td>57.17</td>\n",
       "      <td>-2.08</td>\n",
       "      <td>8.10</td>\n",
       "    </tr>\n",
       "    <tr>\n",
       "      <th>Abisko</th>\n",
       "      <td>Sweden</td>\n",
       "      <td>63.35</td>\n",
       "      <td>18.83</td>\n",
       "      <td>0.20</td>\n",
       "    </tr>\n",
       "    <tr>\n",
       "      <th>Adana</th>\n",
       "      <td>Turkey</td>\n",
       "      <td>36.99</td>\n",
       "      <td>35.32</td>\n",
       "      <td>18.67</td>\n",
       "    </tr>\n",
       "    <tr>\n",
       "      <th>Albacete</th>\n",
       "      <td>Spain</td>\n",
       "      <td>39.00</td>\n",
       "      <td>-1.87</td>\n",
       "      <td>12.62</td>\n",
       "    </tr>\n",
       "  </tbody>\n",
       "</table>\n",
       "</div>"
      ],
      "text/plain": [
       "                 country  latitude  longitude  temperature\n",
       "city                                                      \n",
       "Aalborg          Denmark     57.03       9.92         7.52\n",
       "Aberdeen  United Kingdom     57.17      -2.08         8.10\n",
       "Abisko            Sweden     63.35      18.83         0.20\n",
       "Adana             Turkey     36.99      35.32        18.67\n",
       "Albacete           Spain     39.00      -1.87        12.62"
      ]
     },
     "execution_count": 8,
     "metadata": {},
     "output_type": "execute_result"
    }
   ],
   "source": [
    "cities.head(5)"
   ]
  },
  {
   "cell_type": "code",
   "execution_count": 13,
   "metadata": {},
   "outputs": [
    {
     "data": {
      "text/html": [
       "<div>\n",
       "<table border=\"1\" class=\"dataframe\">\n",
       "  <thead>\n",
       "    <tr style=\"text-align: right;\">\n",
       "      <th></th>\n",
       "      <th>latitude</th>\n",
       "      <th>longitude</th>\n",
       "      <th>temperature</th>\n",
       "    </tr>\n",
       "  </thead>\n",
       "  <tbody>\n",
       "    <tr>\n",
       "      <th>count</th>\n",
       "      <td>213.000000</td>\n",
       "      <td>213.000000</td>\n",
       "      <td>213.000000</td>\n",
       "    </tr>\n",
       "    <tr>\n",
       "      <th>mean</th>\n",
       "      <td>47.499906</td>\n",
       "      <td>15.374319</td>\n",
       "      <td>9.497840</td>\n",
       "    </tr>\n",
       "    <tr>\n",
       "      <th>std</th>\n",
       "      <td>6.730961</td>\n",
       "      <td>13.068014</td>\n",
       "      <td>3.561231</td>\n",
       "    </tr>\n",
       "    <tr>\n",
       "      <th>min</th>\n",
       "      <td>36.130000</td>\n",
       "      <td>-9.140000</td>\n",
       "      <td>-2.200000</td>\n",
       "    </tr>\n",
       "    <tr>\n",
       "      <th>25%</th>\n",
       "      <td>42.220000</td>\n",
       "      <td>5.380000</td>\n",
       "      <td>7.190000</td>\n",
       "    </tr>\n",
       "    <tr>\n",
       "      <th>50%</th>\n",
       "      <td>47.580000</td>\n",
       "      <td>16.180000</td>\n",
       "      <td>8.880000</td>\n",
       "    </tr>\n",
       "    <tr>\n",
       "      <th>75%</th>\n",
       "      <td>52.050000</td>\n",
       "      <td>25.620000</td>\n",
       "      <td>11.190000</td>\n",
       "    </tr>\n",
       "    <tr>\n",
       "      <th>max</th>\n",
       "      <td>67.850000</td>\n",
       "      <td>41.930000</td>\n",
       "      <td>18.670000</td>\n",
       "    </tr>\n",
       "  </tbody>\n",
       "</table>\n",
       "</div>"
      ],
      "text/plain": [
       "         latitude   longitude  temperature\n",
       "count  213.000000  213.000000   213.000000\n",
       "mean    47.499906   15.374319     9.497840\n",
       "std      6.730961   13.068014     3.561231\n",
       "min     36.130000   -9.140000    -2.200000\n",
       "25%     42.220000    5.380000     7.190000\n",
       "50%     47.580000   16.180000     8.880000\n",
       "75%     52.050000   25.620000    11.190000\n",
       "max     67.850000   41.930000    18.670000"
      ]
     },
     "execution_count": 13,
     "metadata": {},
     "output_type": "execute_result"
    }
   ],
   "source": [
    "cities.describe()"
   ]
  },
  {
   "cell_type": "code",
   "execution_count": 14,
   "metadata": {},
   "outputs": [
    {
     "data": {
      "image/png": "[encoded data removed]",
      "text/plain": [
       "<matplotlib.figure.Figure at 0x106de0490>"
      ]
     },
     "metadata": {},
     "output_type": "display_data"
    }
   ],
   "source": [
    "# Introduction to plotting a line\n",
    "plt.plot([1,3], [2,7], color='green')\n",
    "plt.show()"
   ]
  },
  {
   "cell_type": "code",
   "execution_count": 17,
   "metadata": {},
   "outputs": [
    {
     "data": {
      "text/plain": [
       "Index([u'country', u'latitude', u'longitude', u'temperature'], dtype='object')"
      ]
     },
     "execution_count": 17,
     "metadata": {},
     "output_type": "execute_result"
    }
   ],
   "source": [
    "cities.columns"
   ]
  },
  {
   "cell_type": "code",
   "execution_count": 19,
   "metadata": {},
   "outputs": [
    {
     "data": {
      "image/png": "[encoded data removed]",
      "text/plain": [
       "<matplotlib.figure.Figure at 0x109a96a10>"
      ]
     },
     "metadata": {},
     "output_type": "display_data"
    }
   ],
   "source": [
    "cities.plot.scatter(x='longitude', y='latitude')\n",
    "plt.show()"
   ]
  },
  {
   "cell_type": "code",
   "execution_count": 15,
   "metadata": {},
   "outputs": [
    {
     "data": {
      "image/png": "[encoded data removed]",
      "text/plain": [
       "<matplotlib.figure.Figure at 0x106de02d0>"
      ]
     },
     "metadata": {},
     "output_type": "display_data"
    }
   ],
   "source": [
    "# Recall temperature versus latitude scatterplot\n",
    "\n",
    "cities.plot.scatter(x='latitude', y='temperature')\n",
    "plt.show()"
   ]
  },
  {
   "cell_type": "code",
   "execution_count": 20,
   "metadata": {
    "collapsed": true
   },
   "outputs": [],
   "source": [
    "?? np.polyfit"
   ]
  },
  {
   "cell_type": "code",
   "execution_count": 21,
   "metadata": {},
   "outputs": [
    {
     "data": {
      "text/plain": [
       "array([ -0.43601904,  30.20870383])"
      ]
     },
     "execution_count": 21,
     "metadata": {},
     "output_type": "execute_result"
    }
   ],
   "source": [
    "np.polyfit(cities.latitude, cities.temperature, 1) # Regression line is y = ax + b"
   ]
  },
  {
   "cell_type": "code",
   "execution_count": 10,
   "metadata": {},
   "outputs": [
    {
     "data": {
      "image/png": "[encoded data removed]",
      "text/plain": [
       "<matplotlib.figure.Figure at 0x113193d90>"
      ]
     },
     "metadata": {},
     "output_type": "display_data"
    }
   ],
   "source": [
    "# Add linear regression\n",
    "cities.plot.scatter(x='latitude', y='temperature')\n",
    "a,b = np.polyfit(cities.latitude, cities.temperature, 1) # Regression line is y = ax + b\n",
    "x1 = min(cities.latitude)\n",
    "x2 = max(cities.latitude)\n",
    "plt.plot([x1,x2], [a*x1 + b, a*x2 + b], color='red')\n",
    "plt.ylim(0,20)\n",
    "plt.show()\n"
   ]
  },
  {
   "cell_type": "code",
   "execution_count": 36,
   "metadata": {},
   "outputs": [
    {
     "data": {
      "text/html": [
       "<div>\n",
       "<table border=\"1\" class=\"dataframe\">\n",
       "  <thead>\n",
       "    <tr style=\"text-align: right;\">\n",
       "      <th></th>\n",
       "      <th>latitude</th>\n",
       "      <th>longitude</th>\n",
       "      <th>temperature</th>\n",
       "    </tr>\n",
       "  </thead>\n",
       "  <tbody>\n",
       "    <tr>\n",
       "      <th>latitude</th>\n",
       "      <td>1.000000</td>\n",
       "      <td>-0.105196</td>\n",
       "      <td>-0.824105</td>\n",
       "    </tr>\n",
       "    <tr>\n",
       "      <th>longitude</th>\n",
       "      <td>-0.105196</td>\n",
       "      <td>1.000000</td>\n",
       "      <td>-0.169308</td>\n",
       "    </tr>\n",
       "    <tr>\n",
       "      <th>temperature</th>\n",
       "      <td>-0.824105</td>\n",
       "      <td>-0.169308</td>\n",
       "      <td>1.000000</td>\n",
       "    </tr>\n",
       "  </tbody>\n",
       "</table>\n",
       "</div>"
      ],
      "text/plain": [
       "             latitude  longitude  temperature\n",
       "latitude     1.000000  -0.105196    -0.824105\n",
       "longitude   -0.105196   1.000000    -0.169308\n",
       "temperature -0.824105  -0.169308     1.000000"
      ]
     },
     "execution_count": 36,
     "metadata": {},
     "output_type": "execute_result"
    }
   ],
   "source": [
    "cities.corr()"
   ]
  },
  {
   "cell_type": "code",
   "execution_count": 29,
   "metadata": {},
   "outputs": [
    {
     "name": "stdout",
     "output_type": "stream",
     "text": [
      "Correlation coefficient for temperature versus latitude: -0.824104632027\n",
      "Correlation coefficient for temperature versus longitude: -0.169307504036\n"
     ]
    }
   ],
   "source": [
    "# Correlation coefficients (r values)\n",
    "cc = np.corrcoef(cities.latitude, cities.temperature)[1,0]\n",
    "print 'Correlation coefficient for temperature versus latitude:', cc\n",
    "cc = np.corrcoef(cities.longitude, cities.temperature)[1,0]\n",
    "print 'Correlation coefficient for temperature versus longitude:', cc"
   ]
  },
  {
   "cell_type": "code",
   "execution_count": 40,
   "metadata": {},
   "outputs": [
    {
     "data": {
      "image/png": "[encoded data removed]",
      "text/plain": [
       "<matplotlib.figure.Figure at 0x109a7c2d0>"
      ]
     },
     "metadata": {},
     "output_type": "display_data"
    }
   ],
   "source": [
    "train = cities[(cities.country=='Norway') | (cities.country=='France') | (cities.country=='Turkey')]\n",
    "\n",
    "plt.scatter(train.latitude, train.temperature)\n",
    "a,b = np.polyfit(train.latitude, train.temperature, 1)\n",
    "x1 = min(train.latitude)\n",
    "x2 = max(train.latitude)\n",
    "plt.plot([x1,x2], [a*x1 + b, a*x2 + b], color='red')\n",
    "plt.xlim(x1,x2)\n",
    "plt.show()\n",
    "# Loop asking use"
   ]
  },
  {
   "cell_type": "code",
   "execution_count": 41,
   "metadata": {},
   "outputs": [
    {
     "data": {
      "text/plain": [
       "(-0.32953738946501998, 24.939836864662503)"
      ]
     },
     "execution_count": 41,
     "metadata": {},
     "output_type": "execute_result"
    }
   ],
   "source": [
    "a,b"
   ]
  },
  {
   "cell_type": "code",
   "execution_count": 12,
   "metadata": {
    "collapsed": true
   },
   "outputs": [],
   "source": [
    "import sklearn"
   ]
  },
  {
   "cell_type": "code",
   "execution_count": 13,
   "metadata": {},
   "outputs": [
    {
     "data": {
      "text/plain": [
       "'0.15.2'"
      ]
     },
     "execution_count": 13,
     "metadata": {},
     "output_type": "execute_result"
    }
   ],
   "source": [
    "sklearn.__version__"
   ]
  },
  {
   "cell_type": "code",
   "execution_count": 14,
   "metadata": {
    "scrolled": true
   },
   "outputs": [],
   "source": [
    "from sklearn.cross_validation import train_test_split"
   ]
  },
  {
   "cell_type": "code",
   "execution_count": 16,
   "metadata": {},
   "outputs": [
    {
     "ename": "AttributeError",
     "evalue": "'numpy.ndarray' object has no attribute 'latitude'",
     "output_type": "error",
     "traceback": [
      "\u001b[0;31m---------------------------------------------------------------------------\u001b[0m",
      "\u001b[0;31mAttributeError\u001b[0m                            Traceback (most recent call last)",
      "\u001b[0;32m<ipython-input-16-53d739bcebd4>\u001b[0m in \u001b[0;36m<module>\u001b[0;34m()\u001b[0m\n\u001b[1;32m      6\u001b[0m \u001b[0mtrain\u001b[0m\u001b[0;34m,\u001b[0m \u001b[0mtest\u001b[0m \u001b[0;34m=\u001b[0m  \u001b[0mtrain_test_split\u001b[0m\u001b[0;34m(\u001b[0m\u001b[0mcities\u001b[0m\u001b[0;34m,\u001b[0m \u001b[0mtest_size\u001b[0m \u001b[0;34m=\u001b[0m \u001b[0;36m0.7\u001b[0m\u001b[0;34m)\u001b[0m\u001b[0;34m\u001b[0m\u001b[0m\n\u001b[1;32m      7\u001b[0m \u001b[0;31m# Compute and show regression\u001b[0m\u001b[0;34m\u001b[0m\u001b[0;34m\u001b[0m\u001b[0m\n\u001b[0;32m----> 8\u001b[0;31m \u001b[0mplt\u001b[0m\u001b[0;34m.\u001b[0m\u001b[0mscatter\u001b[0m\u001b[0;34m(\u001b[0m\u001b[0mtrain\u001b[0m\u001b[0;34m.\u001b[0m\u001b[0mlatitude\u001b[0m\u001b[0;34m,\u001b[0m \u001b[0mtrain\u001b[0m\u001b[0;34m.\u001b[0m\u001b[0mtemperature\u001b[0m\u001b[0;34m)\u001b[0m\u001b[0;34m\u001b[0m\u001b[0m\n\u001b[0m\u001b[1;32m      9\u001b[0m \u001b[0ma\u001b[0m\u001b[0;34m,\u001b[0m\u001b[0mb\u001b[0m \u001b[0;34m=\u001b[0m \u001b[0mnp\u001b[0m\u001b[0;34m.\u001b[0m\u001b[0mpolyfit\u001b[0m\u001b[0;34m(\u001b[0m\u001b[0mtrain\u001b[0m\u001b[0;34m.\u001b[0m\u001b[0mlatitude\u001b[0m\u001b[0;34m,\u001b[0m \u001b[0mtrain\u001b[0m\u001b[0;34m.\u001b[0m\u001b[0mtemperature\u001b[0m\u001b[0;34m,\u001b[0m \u001b[0;36m1\u001b[0m\u001b[0;34m)\u001b[0m\u001b[0;34m\u001b[0m\u001b[0m\n\u001b[1;32m     10\u001b[0m \u001b[0mx1\u001b[0m \u001b[0;34m=\u001b[0m \u001b[0mmin\u001b[0m\u001b[0;34m(\u001b[0m\u001b[0mtrain\u001b[0m\u001b[0;34m.\u001b[0m\u001b[0mlatitude\u001b[0m\u001b[0;34m)\u001b[0m\u001b[0;34m\u001b[0m\u001b[0m\n",
      "\u001b[0;31mAttributeError\u001b[0m: 'numpy.ndarray' object has no attribute 'latitude'"
     ]
    }
   ],
   "source": [
    "# Use linear regression for interactive temperature predictor\n",
    "# Training data: compute latitude-temperature regression from cities\n",
    "# in Norway, France, and Turkey\n",
    "cities = pd.DataFrame.from_csv(\"Cities.csv\", index_col = None)\n",
    "cities = cities.sample(1)\n",
    "train, test =  train_test_split(cities, test_size = 0.7)\n",
    "# Compute and show regression\n",
    "plt.scatter(train.latitude, train.temperature)\n",
    "a,b = np.polyfit(train.latitude, train.temperature, 1)\n",
    "x1 = min(train.latitude)\n",
    "x2 = max(train.latitude)\n",
    "plt.plot([x1,x2], [a*x1 + b, a*x2 + b], color='red')\n",
    "plt.xlim(x1,x2)\n",
    "plt.show()\n",
    "# Loop asking user for city name, compute predicted + actual temperature\n",
    "while True:\n",
    "    name = raw_input('Enter city name (or \"quit\" to quit): ')\n",
    "    if name == 'quit': break\n",
    "    city = cities[cities[\"city\"] == name]\n",
    "    if len(city) == 0:\n",
    "        print 'City not in dataset'\n",
    "    else:\n",
    "        # Use float() to convert dataframe element to value\n",
    "        print 'Predicted temperature:', a * float(city.latitude) + b\n",
    "        print 'Actual temperature:', float(city.temperature)"
   ]
  },
  {
   "cell_type": "code",
   "execution_count": 46,
   "metadata": {},
   "outputs": [
    {
     "data": {
      "text/plain": [
       "Index([u'country', u'latitude', u'longitude', u'temperature'], dtype='object')"
      ]
     },
     "execution_count": 46,
     "metadata": {},
     "output_type": "execute_result"
    }
   ],
   "source": [
    "cities.columns"
   ]
  },
  {
   "cell_type": "code",
   "execution_count": 49,
   "metadata": {},
   "outputs": [
    {
     "data": {
      "text/html": [
       "<div>\n",
       "<table border=\"1\" class=\"dataframe\">\n",
       "  <thead>\n",
       "    <tr style=\"text-align: right;\">\n",
       "      <th></th>\n",
       "      <th>country</th>\n",
       "      <th>latitude</th>\n",
       "      <th>longitude</th>\n",
       "      <th>temperature</th>\n",
       "    </tr>\n",
       "    <tr>\n",
       "      <th>city</th>\n",
       "      <th></th>\n",
       "      <th></th>\n",
       "      <th></th>\n",
       "      <th></th>\n",
       "    </tr>\n",
       "  </thead>\n",
       "  <tbody>\n",
       "    <tr>\n",
       "      <th>Adana</th>\n",
       "      <td>Turkey</td>\n",
       "      <td>36.99</td>\n",
       "      <td>35.32</td>\n",
       "      <td>18.67</td>\n",
       "    </tr>\n",
       "    <tr>\n",
       "      <th>Ankara</th>\n",
       "      <td>Turkey</td>\n",
       "      <td>39.93</td>\n",
       "      <td>32.86</td>\n",
       "      <td>9.86</td>\n",
       "    </tr>\n",
       "    <tr>\n",
       "      <th>Antalya</th>\n",
       "      <td>Turkey</td>\n",
       "      <td>36.89</td>\n",
       "      <td>30.70</td>\n",
       "      <td>11.88</td>\n",
       "    </tr>\n",
       "    <tr>\n",
       "      <th>Batman</th>\n",
       "      <td>Turkey</td>\n",
       "      <td>37.89</td>\n",
       "      <td>41.14</td>\n",
       "      <td>14.16</td>\n",
       "    </tr>\n",
       "    <tr>\n",
       "      <th>Bursa</th>\n",
       "      <td>Turkey</td>\n",
       "      <td>40.20</td>\n",
       "      <td>29.07</td>\n",
       "      <td>11.16</td>\n",
       "    </tr>\n",
       "    <tr>\n",
       "      <th>Denizli</th>\n",
       "      <td>Turkey</td>\n",
       "      <td>37.77</td>\n",
       "      <td>29.08</td>\n",
       "      <td>15.02</td>\n",
       "    </tr>\n",
       "    <tr>\n",
       "      <th>Edirne</th>\n",
       "      <td>Turkey</td>\n",
       "      <td>41.67</td>\n",
       "      <td>26.57</td>\n",
       "      <td>10.90</td>\n",
       "    </tr>\n",
       "    <tr>\n",
       "      <th>Erzincan</th>\n",
       "      <td>Turkey</td>\n",
       "      <td>39.75</td>\n",
       "      <td>39.49</td>\n",
       "      <td>8.67</td>\n",
       "    </tr>\n",
       "    <tr>\n",
       "      <th>Erzurum</th>\n",
       "      <td>Turkey</td>\n",
       "      <td>39.92</td>\n",
       "      <td>41.29</td>\n",
       "      <td>5.17</td>\n",
       "    </tr>\n",
       "    <tr>\n",
       "      <th>Eskisehir</th>\n",
       "      <td>Turkey</td>\n",
       "      <td>39.79</td>\n",
       "      <td>30.53</td>\n",
       "      <td>11.11</td>\n",
       "    </tr>\n",
       "    <tr>\n",
       "      <th>Gaziantep</th>\n",
       "      <td>Turkey</td>\n",
       "      <td>37.07</td>\n",
       "      <td>37.38</td>\n",
       "      <td>13.46</td>\n",
       "    </tr>\n",
       "    <tr>\n",
       "      <th>Istanbul</th>\n",
       "      <td>Turkey</td>\n",
       "      <td>41.10</td>\n",
       "      <td>29.01</td>\n",
       "      <td>13.20</td>\n",
       "    </tr>\n",
       "    <tr>\n",
       "      <th>Karaman</th>\n",
       "      <td>Turkey</td>\n",
       "      <td>37.18</td>\n",
       "      <td>33.22</td>\n",
       "      <td>10.41</td>\n",
       "    </tr>\n",
       "    <tr>\n",
       "      <th>Kayseri</th>\n",
       "      <td>Turkey</td>\n",
       "      <td>38.73</td>\n",
       "      <td>35.49</td>\n",
       "      <td>8.89</td>\n",
       "    </tr>\n",
       "    <tr>\n",
       "      <th>Malatya</th>\n",
       "      <td>Turkey</td>\n",
       "      <td>38.37</td>\n",
       "      <td>38.30</td>\n",
       "      <td>14.13</td>\n",
       "    </tr>\n",
       "    <tr>\n",
       "      <th>Manisa</th>\n",
       "      <td>Turkey</td>\n",
       "      <td>38.63</td>\n",
       "      <td>27.44</td>\n",
       "      <td>15.10</td>\n",
       "    </tr>\n",
       "    <tr>\n",
       "      <th>Ordu</th>\n",
       "      <td>Turkey</td>\n",
       "      <td>41.00</td>\n",
       "      <td>37.87</td>\n",
       "      <td>11.92</td>\n",
       "    </tr>\n",
       "    <tr>\n",
       "      <th>Samsun</th>\n",
       "      <td>Turkey</td>\n",
       "      <td>41.28</td>\n",
       "      <td>36.34</td>\n",
       "      <td>12.05</td>\n",
       "    </tr>\n",
       "    <tr>\n",
       "      <th>Siirt</th>\n",
       "      <td>Turkey</td>\n",
       "      <td>37.94</td>\n",
       "      <td>41.93</td>\n",
       "      <td>12.48</td>\n",
       "    </tr>\n",
       "    <tr>\n",
       "      <th>Sivas</th>\n",
       "      <td>Turkey</td>\n",
       "      <td>39.75</td>\n",
       "      <td>37.03</td>\n",
       "      <td>8.05</td>\n",
       "    </tr>\n",
       "    <tr>\n",
       "      <th>Tarsus</th>\n",
       "      <td>Turkey</td>\n",
       "      <td>36.92</td>\n",
       "      <td>34.88</td>\n",
       "      <td>11.21</td>\n",
       "    </tr>\n",
       "    <tr>\n",
       "      <th>Tekirdag</th>\n",
       "      <td>Turkey</td>\n",
       "      <td>40.99</td>\n",
       "      <td>27.51</td>\n",
       "      <td>13.02</td>\n",
       "    </tr>\n",
       "    <tr>\n",
       "      <th>Trabzon</th>\n",
       "      <td>Turkey</td>\n",
       "      <td>40.98</td>\n",
       "      <td>39.72</td>\n",
       "      <td>10.28</td>\n",
       "    </tr>\n",
       "    <tr>\n",
       "      <th>Zonguldak</th>\n",
       "      <td>Turkey</td>\n",
       "      <td>41.43</td>\n",
       "      <td>31.78</td>\n",
       "      <td>10.64</td>\n",
       "    </tr>\n",
       "  </tbody>\n",
       "</table>\n",
       "</div>"
      ],
      "text/plain": [
       "          country  latitude  longitude  temperature\n",
       "city                                               \n",
       "Adana      Turkey     36.99      35.32        18.67\n",
       "Ankara     Turkey     39.93      32.86         9.86\n",
       "Antalya    Turkey     36.89      30.70        11.88\n",
       "Batman     Turkey     37.89      41.14        14.16\n",
       "Bursa      Turkey     40.20      29.07        11.16\n",
       "Denizli    Turkey     37.77      29.08        15.02\n",
       "Edirne     Turkey     41.67      26.57        10.90\n",
       "Erzincan   Turkey     39.75      39.49         8.67\n",
       "Erzurum    Turkey     39.92      41.29         5.17\n",
       "Eskisehir  Turkey     39.79      30.53        11.11\n",
       "Gaziantep  Turkey     37.07      37.38        13.46\n",
       "Istanbul   Turkey     41.10      29.01        13.20\n",
       "Karaman    Turkey     37.18      33.22        10.41\n",
       "Kayseri    Turkey     38.73      35.49         8.89\n",
       "Malatya    Turkey     38.37      38.30        14.13\n",
       "Manisa     Turkey     38.63      27.44        15.10\n",
       "Ordu       Turkey     41.00      37.87        11.92\n",
       "Samsun     Turkey     41.28      36.34        12.05\n",
       "Siirt      Turkey     37.94      41.93        12.48\n",
       "Sivas      Turkey     39.75      37.03         8.05\n",
       "Tarsus     Turkey     36.92      34.88        11.21\n",
       "Tekirdag   Turkey     40.99      27.51        13.02\n",
       "Trabzon    Turkey     40.98      39.72        10.28\n",
       "Zonguldak  Turkey     41.43      31.78        10.64"
      ]
     },
     "execution_count": 49,
     "metadata": {},
     "output_type": "execute_result"
    }
   ],
   "source": [
    "cities[cities[\"country\"] == \"Turkey\"]"
   ]
  },
  {
   "cell_type": "code",
   "execution_count": 47,
   "metadata": {},
   "outputs": [
    {
     "data": {
      "text/plain": [
       "Turkey                    24\n",
       "France                    18\n",
       "Spain                     18\n",
       "Ukraine                   15\n",
       "Italy                     15\n",
       "Germany                   14\n",
       "United Kingdom            13\n",
       "Poland                     9\n",
       "Romania                    9\n",
       "Sweden                     6\n",
       "Belarus                    6\n",
       "Norway                     5\n",
       "Austria                    5\n",
       "Bulgaria                   5\n",
       "Hungary                    4\n",
       "Finland                    4\n",
       "Greece                     4\n",
       "Lithuania                  3\n",
       "Ireland                    3\n",
       "Czech Republic             3\n",
       "Netherlands                3\n",
       "Switzerland                3\n",
       "Serbia                     3\n",
       "Slovakia                   2\n",
       "Latvia                     2\n",
       "Estonia                    2\n",
       "Moldova                    2\n",
       "Portugal                   2\n",
       "Croatia                    2\n",
       "Denmark                    2\n",
       "Andorra                    1\n",
       "Macedonia                  1\n",
       "Albania                    1\n",
       "Montenegro                 1\n",
       "Slovenia                   1\n",
       "Bosnia and Herzegovina     1\n",
       "Belgium                    1\n",
       "Name: country, dtype: int64"
      ]
     },
     "execution_count": 47,
     "metadata": {},
     "output_type": "execute_result"
    }
   ],
   "source": [
    "cities[\"country\"].value_counts()"
   ]
  },
  {
   "cell_type": "markdown",
   "metadata": {
    "collapsed": true
   },
   "source": [
    "### <font color=\"green\">Your Turn: World Cup Data</font>"
   ]
  },
  {
   "cell_type": "code",
   "execution_count": null,
   "metadata": {
    "collapsed": true
   },
   "outputs": [],
   "source": [
    "# Read Players.csv into dataframe\n",
    "f = open('Players.csv','rU')\n",
    "players = pd.read_csv(f)"
   ]
  },
  {
   "cell_type": "code",
   "execution_count": null,
   "metadata": {
    "collapsed": true
   },
   "outputs": [],
   "source": [
    "# From the players data, compute and plot a linear regression for\n",
    "# passes made (y-axis) versus minutes played (x-axis).\n",
    "# Reminder: copy-paste-modify approach to programming!"
   ]
  },
  {
   "cell_type": "code",
   "execution_count": null,
   "metadata": {
    "collapsed": true
   },
   "outputs": [],
   "source": [
    "# Show the correlation coefficient for the passes-minutes regression.\n",
    "# Also show correlation coefficients for tackles versus minutes, shots\n",
    "# versus minutes, and saves versus minutes"
   ]
  },
  {
   "cell_type": "code",
   "execution_count": null,
   "metadata": {
    "collapsed": true
   },
   "outputs": [],
   "source": [
    "# Use linear regression for interactive number-of-passes predictor\n",
    "# Training data: compute minutes-passes regression for players from\n",
    "# Greece, USA, and Portugal"
   ]
  },
  {
   "cell_type": "code",
   "execution_count": null,
   "metadata": {
    "collapsed": true
   },
   "outputs": [],
   "source": [
    "# SUPER BONUS!!\n",
    "# Repeat previous but use separate predictor for the four different positions\n",
    "# (goalkeeper,defender,midfielder,forward). Does it do better?\n",
    "# Try comparing correlation coefficients against one regression for all players.\n",
    "#\n",
    "# Note: To extract a string value from a dataframe element use df.iloc[0].element,\n",
    "# e.g., if \"player\" is a one-row dataframe, then player.iloc[0].position returns\n",
    "# the player's position as a string"
   ]
  }
 ],
 "metadata": {
  "kernelspec": {
   "display_name": "IPython (Python 2)",
   "language": "python",
   "name": "python2"
  },
  "language_info": {
   "codemirror_mode": {
    "name": "ipython",
    "version": 2
   },
   "file_extension": ".py",
   "mimetype": "text/x-python",
   "name": "python",
   "nbconvert_exporter": "python",
   "pygments_lexer": "ipython2",
   "version": "2.7.13"
  }
 },
 "nbformat": 4,
 "nbformat_minor": 1
}
